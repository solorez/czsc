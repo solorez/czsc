{
 "cells": [
  {
   "cell_type": "code",
   "execution_count": 2,
   "metadata": {},
   "outputs": [
    {
     "name": "stderr",
     "output_type": "stream",
     "text": [
      "c:\\veighna_studio_v39\\lib\\site-packages\\tqdm\\auto.py:21: TqdmWarning: IProgress not found. Please update jupyter and ipywidgets. See https://ipywidgets.readthedocs.io/en/stable/user_install.html\n",
      "  from .autonotebook import tqdm as notebook_tqdm\n"
     ]
    }
   ],
   "source": [
    "# -*- coding: utf-8 -*-\n",
    "\"\"\"\n",
    "author: zengbin93\n",
    "email: zeng_bin8888@163.com\n",
    "create_dt: 2023/3/5 20:45\n",
    "describe: CZSC投研数据共享接口\n",
    "\n",
    "投研数据共享说明（含下载地址）：https://s0cqcxuy3p.feishu.cn/wiki/wikcnzuPawXtBB7Cj7mqlYZxpDh\n",
    "\"\"\"\n",
    "import os\n",
    "import czsc\n",
    "import glob\n",
    "import pandas as pd\n",
    "\n",
    "# 投研共享数据的本地缓存路径，需要根据实际情况修改\n",
    "cache_path = os.environ.get('czsc_research_cache', r\"D:\\CZSC投研数据\")\n",
    "if not os.path.exists(cache_path):\n",
    "    raise ValueError(f\"请设置环境变量 czsc_research_cache 为投研共享数据的本地缓存路径，当前路径不存在：{cache_path}。\\n\\n\"\n",
    "                     f\"投研数据共享说明（含下载地址）：https://s0cqcxuy3p.feishu.cn/wiki/wikcnzuPawXtBB7Cj7mqlYZxpDh\")\n",
    "\n",
    "\n",
    "def get_symbols(name, **kwargs):\n",
    "    \"\"\"获取指定分组下的所有标的代码\n",
    "\n",
    "    :param name: 分组名称，可选值：'A股主要指数', 'A股场内基金', '中证500成分股', '期货主力'\n",
    "    :param kwargs:\n",
    "    :return:\n",
    "    \"\"\"\n",
    "    if name.upper() == 'ALL':\n",
    "        files = glob.glob(os.path.join(cache_path, \"*\", \"*.parquet\"))\n",
    "    else:\n",
    "        files = glob.glob(os.path.join(cache_path, name, \"*.parquet\"))\n",
    "    return [os.path.basename(x).replace('.parquet', '') for x in files]"
   ]
  },
  {
   "cell_type": "code",
   "execution_count": 3,
   "metadata": {},
   "outputs": [],
   "source": [
    "symbol = '000008.SZ'\n",
    "file = glob.glob(os.path.join(cache_path, \"*\", f\"{symbol}.parquet\"))[0]\n",
    "kline = pd.read_parquet(file)"
   ]
  },
  {
   "cell_type": "code",
   "execution_count": 4,
   "metadata": {},
   "outputs": [
    {
     "name": "stdout",
     "output_type": "stream",
     "text": [
      "           symbol                  dt     open    close     high      low     vol   amount\n",
      "0       000008.SZ 2010-01-20 09:31:00  29.5484  29.5484  29.5484  29.5484  133900  1562613\n",
      "1       000008.SZ 2010-01-20 09:32:00  29.5484  29.5484  29.5484  29.5484   18900   220563\n",
      "2       000008.SZ 2010-01-20 09:33:00  29.5484  29.5484  29.5484  29.5484    4400    51348\n",
      "3       000008.SZ 2010-01-20 09:34:00  29.5484  29.5484  29.5484  29.5484   19500   227565\n",
      "4       000008.SZ 2010-01-20 09:35:00  29.5484  29.5484  29.5484  29.5484    4200    49014\n",
      "...           ...                 ...      ...      ...      ...      ...     ...      ...\n",
      "595439  000008.SZ 2022-12-30 14:54:00  51.5384  51.5384  51.7625  51.5384   20200    46623\n",
      "595440  000008.SZ 2022-12-30 14:55:00  51.7625  51.5384  51.7625  51.5384   21100    48586\n",
      "595441  000008.SZ 2022-12-30 14:56:00  51.5384  51.5384  51.7625  51.5384  129000   297346\n",
      "595442  000008.SZ 2022-12-30 14:57:00  51.5384  51.7625  51.7625  51.5384  166500   384428\n",
      "595443  000008.SZ 2022-12-30 15:00:00  51.5384  51.5384  51.5384  51.5384  279100   641930\n",
      "\n",
      "[595444 rows x 8 columns]\n"
     ]
    }
   ],
   "source": [
    "print(kline)"
   ]
  },
  {
   "cell_type": "code",
   "execution_count": 5,
   "metadata": {},
   "outputs": [
    {
     "name": "stdout",
     "output_type": "stream",
     "text": [
      "                        Datetime          Open          High           Low         Close     Adj Close     Volume\n",
      "0      2022-06-03 00:00:00+00:00  30467.806641  30471.939453  30387.609375  30402.394531  30402.394531          0\n",
      "1      2022-06-03 01:00:00+00:00  30397.445312  30626.511719  30387.603516  30608.304688  30608.304688   31490048\n",
      "2      2022-06-03 02:00:00+00:00  30606.613281  30633.035156  30535.195312  30540.662109  30540.662109          0\n",
      "3      2022-06-03 03:00:00+00:00  30542.123047  30545.392578  30479.740234  30501.517578  30501.517578          0\n",
      "4      2022-06-03 04:00:00+00:00  30505.972656  30523.390625  30437.888672  30440.314453  30440.314453          0\n",
      "...                          ...           ...           ...           ...           ...           ...        ...\n",
      "17447  2024-05-31 19:00:00+00:00  67337.921875  67865.953125  67292.976562  67738.085938  67738.085938          0\n",
      "17448  2024-05-31 20:00:00+00:00  67566.375000  67700.585938  67531.203125  67629.085938  67629.085938          0\n",
      "17449  2024-05-31 21:00:00+00:00  67627.789062  67630.093750  67465.359375  67531.750000  67531.750000   14950400\n",
      "17450  2024-05-31 22:00:00+00:00  67505.101562  67574.828125  67505.101562  67528.523438  67528.523438          0\n",
      "17451  2024-05-31 23:00:00+00:00  67519.796875  67550.328125  67182.609375  67488.320312  67488.320312  371447808\n",
      "\n",
      "[17452 rows x 7 columns]\n"
     ]
    }
   ],
   "source": [
    "cache_path2 = r\"D:\\Github\\czsc\\crypto\\history_data\"\n",
    "symbol2 = 'BTC-USD'\n",
    "file2 = glob.glob(os.path.join(cache_path2, \"*\", f\"{symbol2}.parquet\"))[0]\n",
    "kline2 = pd.read_parquet(file2)\n",
    "print(kline2)"
   ]
  },
  {
   "cell_type": "code",
   "execution_count": 6,
   "metadata": {},
   "outputs": [
    {
     "name": "stdout",
     "output_type": "stream",
     "text": [
      "                        Datetime          Open          High           Low         Close     Adj Close     Volume   symbol\n",
      "0      2022-06-03 00:00:00+00:00  30467.806641  30471.939453  30387.609375  30402.394531  30402.394531          0  BTC-USD\n",
      "1      2022-06-03 01:00:00+00:00  30397.445312  30626.511719  30387.603516  30608.304688  30608.304688   31490048  BTC-USD\n",
      "2      2022-06-03 02:00:00+00:00  30606.613281  30633.035156  30535.195312  30540.662109  30540.662109          0  BTC-USD\n",
      "3      2022-06-03 03:00:00+00:00  30542.123047  30545.392578  30479.740234  30501.517578  30501.517578          0  BTC-USD\n",
      "4      2022-06-03 04:00:00+00:00  30505.972656  30523.390625  30437.888672  30440.314453  30440.314453          0  BTC-USD\n",
      "...                          ...           ...           ...           ...           ...           ...        ...      ...\n",
      "17447  2024-05-31 19:00:00+00:00  67337.921875  67865.953125  67292.976562  67738.085938  67738.085938          0  BTC-USD\n",
      "17448  2024-05-31 20:00:00+00:00  67566.375000  67700.585938  67531.203125  67629.085938  67629.085938          0  BTC-USD\n",
      "17449  2024-05-31 21:00:00+00:00  67627.789062  67630.093750  67465.359375  67531.750000  67531.750000   14950400  BTC-USD\n",
      "17450  2024-05-31 22:00:00+00:00  67505.101562  67574.828125  67505.101562  67528.523438  67528.523438          0  BTC-USD\n",
      "17451  2024-05-31 23:00:00+00:00  67519.796875  67550.328125  67182.609375  67488.320312  67488.320312  371447808  BTC-USD\n",
      "\n",
      "[17452 rows x 8 columns]\n"
     ]
    }
   ],
   "source": [
    "kline2['symbol'] = symbol2\n",
    "print(kline2)"
   ]
  },
  {
   "cell_type": "code",
   "execution_count": 7,
   "metadata": {},
   "outputs": [
    {
     "name": "stdout",
     "output_type": "stream",
     "text": [
      "                        Datetime          Open          High           Low         Close     Adj Close     Volume   symbol       amount\n",
      "0      2022-06-03 00:00:00+00:00  30467.806641  30471.939453  30387.609375  30402.394531  30402.394531          0  BTC-USD     0.000000\n",
      "1      2022-06-03 01:00:00+00:00  30397.445312  30626.511719  30387.603516  30608.304688  30608.304688   31490048  BTC-USD  1028.807323\n",
      "2      2022-06-03 02:00:00+00:00  30606.613281  30633.035156  30535.195312  30540.662109  30540.662109          0  BTC-USD     0.000000\n",
      "3      2022-06-03 03:00:00+00:00  30542.123047  30545.392578  30479.740234  30501.517578  30501.517578          0  BTC-USD     0.000000\n",
      "4      2022-06-03 04:00:00+00:00  30505.972656  30523.390625  30437.888672  30440.314453  30440.314453          0  BTC-USD     0.000000\n",
      "...                          ...           ...           ...           ...           ...           ...        ...      ...          ...\n",
      "17447  2024-05-31 19:00:00+00:00  67337.921875  67865.953125  67292.976562  67738.085938  67738.085938          0  BTC-USD     0.000000\n",
      "17448  2024-05-31 20:00:00+00:00  67566.375000  67700.585938  67531.203125  67629.085938  67629.085938          0  BTC-USD     0.000000\n",
      "17449  2024-05-31 21:00:00+00:00  67627.789062  67630.093750  67465.359375  67531.750000  67531.750000   14950400  BTC-USD   221.383275\n",
      "17450  2024-05-31 22:00:00+00:00  67505.101562  67574.828125  67505.101562  67528.523438  67528.523438          0  BTC-USD     0.000000\n",
      "17451  2024-05-31 23:00:00+00:00  67519.796875  67550.328125  67182.609375  67488.320312  67488.320312  371447808  BTC-USD  5503.882839\n",
      "\n",
      "[17452 rows x 9 columns]\n"
     ]
    }
   ],
   "source": [
    "kline2['amount'] = kline2['Volume']/kline2['Close']\n",
    "print(kline2)"
   ]
  },
  {
   "cell_type": "code",
   "execution_count": 10,
   "metadata": {},
   "outputs": [
    {
     "data": {
      "text/plain": [
       "Index(['Datetime', 'Open', 'High', 'Low', 'Close', 'Adj Close', 'Volume', 'symbol', 'amount'], dtype='object')"
      ]
     },
     "execution_count": 10,
     "metadata": {},
     "output_type": "execute_result"
    }
   ],
   "source": [
    "kline2.columns"
   ]
  },
  {
   "cell_type": "code",
   "execution_count": 14,
   "metadata": {},
   "outputs": [],
   "source": [
    "# #            symbol                  dt     open    close     high      low     vol   amount\n",
    "kline2 = kline2[[ 'symbol', 'Datetime', 'Open', 'Close', 'High', 'Low', 'Volume','amount']]\n"
   ]
  },
  {
   "cell_type": "code",
   "execution_count": 15,
   "metadata": {},
   "outputs": [
    {
     "data": {
      "text/html": [
       "<div>\n",
       "<style scoped>\n",
       "    .dataframe tbody tr th:only-of-type {\n",
       "        vertical-align: middle;\n",
       "    }\n",
       "\n",
       "    .dataframe tbody tr th {\n",
       "        vertical-align: top;\n",
       "    }\n",
       "\n",
       "    .dataframe thead th {\n",
       "        text-align: right;\n",
       "    }\n",
       "</style>\n",
       "<table border=\"1\" class=\"dataframe\">\n",
       "  <thead>\n",
       "    <tr style=\"text-align: right;\">\n",
       "      <th></th>\n",
       "      <th>symbol</th>\n",
       "      <th>Datetime</th>\n",
       "      <th>Open</th>\n",
       "      <th>Close</th>\n",
       "      <th>High</th>\n",
       "      <th>Low</th>\n",
       "      <th>Volume</th>\n",
       "      <th>amount</th>\n",
       "    </tr>\n",
       "  </thead>\n",
       "  <tbody>\n",
       "    <tr>\n",
       "      <th>0</th>\n",
       "      <td>BTC-USD</td>\n",
       "      <td>2022-06-03 00:00:00+00:00</td>\n",
       "      <td>30467.806641</td>\n",
       "      <td>30402.394531</td>\n",
       "      <td>30471.939453</td>\n",
       "      <td>30387.609375</td>\n",
       "      <td>0</td>\n",
       "      <td>0.000000</td>\n",
       "    </tr>\n",
       "    <tr>\n",
       "      <th>1</th>\n",
       "      <td>BTC-USD</td>\n",
       "      <td>2022-06-03 01:00:00+00:00</td>\n",
       "      <td>30397.445312</td>\n",
       "      <td>30608.304688</td>\n",
       "      <td>30626.511719</td>\n",
       "      <td>30387.603516</td>\n",
       "      <td>31490048</td>\n",
       "      <td>1028.807323</td>\n",
       "    </tr>\n",
       "    <tr>\n",
       "      <th>2</th>\n",
       "      <td>BTC-USD</td>\n",
       "      <td>2022-06-03 02:00:00+00:00</td>\n",
       "      <td>30606.613281</td>\n",
       "      <td>30540.662109</td>\n",
       "      <td>30633.035156</td>\n",
       "      <td>30535.195312</td>\n",
       "      <td>0</td>\n",
       "      <td>0.000000</td>\n",
       "    </tr>\n",
       "    <tr>\n",
       "      <th>3</th>\n",
       "      <td>BTC-USD</td>\n",
       "      <td>2022-06-03 03:00:00+00:00</td>\n",
       "      <td>30542.123047</td>\n",
       "      <td>30501.517578</td>\n",
       "      <td>30545.392578</td>\n",
       "      <td>30479.740234</td>\n",
       "      <td>0</td>\n",
       "      <td>0.000000</td>\n",
       "    </tr>\n",
       "    <tr>\n",
       "      <th>4</th>\n",
       "      <td>BTC-USD</td>\n",
       "      <td>2022-06-03 04:00:00+00:00</td>\n",
       "      <td>30505.972656</td>\n",
       "      <td>30440.314453</td>\n",
       "      <td>30523.390625</td>\n",
       "      <td>30437.888672</td>\n",
       "      <td>0</td>\n",
       "      <td>0.000000</td>\n",
       "    </tr>\n",
       "  </tbody>\n",
       "</table>\n",
       "</div>"
      ],
      "text/plain": [
       "    symbol                   Datetime          Open         Close          High           Low    Volume       amount\n",
       "0  BTC-USD  2022-06-03 00:00:00+00:00  30467.806641  30402.394531  30471.939453  30387.609375         0     0.000000\n",
       "1  BTC-USD  2022-06-03 01:00:00+00:00  30397.445312  30608.304688  30626.511719  30387.603516  31490048  1028.807323\n",
       "2  BTC-USD  2022-06-03 02:00:00+00:00  30606.613281  30540.662109  30633.035156  30535.195312         0     0.000000\n",
       "3  BTC-USD  2022-06-03 03:00:00+00:00  30542.123047  30501.517578  30545.392578  30479.740234         0     0.000000\n",
       "4  BTC-USD  2022-06-03 04:00:00+00:00  30505.972656  30440.314453  30523.390625  30437.888672         0     0.000000"
      ]
     },
     "execution_count": 15,
     "metadata": {},
     "output_type": "execute_result"
    }
   ],
   "source": [
    "kline2.head()"
   ]
  },
  {
   "cell_type": "code",
   "execution_count": 17,
   "metadata": {},
   "outputs": [
    {
     "name": "stderr",
     "output_type": "stream",
     "text": [
      "C:\\Users\\Bob.Fu\\AppData\\Local\\Temp\\ipykernel_3548\\4119268823.py:1: SettingWithCopyWarning: \n",
      "A value is trying to be set on a copy of a slice from a DataFrame\n",
      "\n",
      "See the caveats in the documentation: https://pandas.pydata.org/pandas-docs/stable/user_guide/indexing.html#returning-a-view-versus-a-copy\n",
      "  kline2.rename(columns={'Datetime':'dt', 'Datetime':'dt', 'Open':'open','Close':'close', 'High': 'high', 'Low':'low', 'Volume':'volume'}, inplace=True)\n"
     ]
    },
    {
     "data": {
      "text/html": [
       "<div>\n",
       "<style scoped>\n",
       "    .dataframe tbody tr th:only-of-type {\n",
       "        vertical-align: middle;\n",
       "    }\n",
       "\n",
       "    .dataframe tbody tr th {\n",
       "        vertical-align: top;\n",
       "    }\n",
       "\n",
       "    .dataframe thead th {\n",
       "        text-align: right;\n",
       "    }\n",
       "</style>\n",
       "<table border=\"1\" class=\"dataframe\">\n",
       "  <thead>\n",
       "    <tr style=\"text-align: right;\">\n",
       "      <th></th>\n",
       "      <th>symbol</th>\n",
       "      <th>dt</th>\n",
       "      <th>open</th>\n",
       "      <th>close</th>\n",
       "      <th>high</th>\n",
       "      <th>low</th>\n",
       "      <th>volume</th>\n",
       "      <th>amount</th>\n",
       "    </tr>\n",
       "  </thead>\n",
       "  <tbody>\n",
       "    <tr>\n",
       "      <th>0</th>\n",
       "      <td>BTC-USD</td>\n",
       "      <td>2022-06-03 00:00:00+00:00</td>\n",
       "      <td>30467.806641</td>\n",
       "      <td>30402.394531</td>\n",
       "      <td>30471.939453</td>\n",
       "      <td>30387.609375</td>\n",
       "      <td>0</td>\n",
       "      <td>0.000000</td>\n",
       "    </tr>\n",
       "    <tr>\n",
       "      <th>1</th>\n",
       "      <td>BTC-USD</td>\n",
       "      <td>2022-06-03 01:00:00+00:00</td>\n",
       "      <td>30397.445312</td>\n",
       "      <td>30608.304688</td>\n",
       "      <td>30626.511719</td>\n",
       "      <td>30387.603516</td>\n",
       "      <td>31490048</td>\n",
       "      <td>1028.807323</td>\n",
       "    </tr>\n",
       "    <tr>\n",
       "      <th>2</th>\n",
       "      <td>BTC-USD</td>\n",
       "      <td>2022-06-03 02:00:00+00:00</td>\n",
       "      <td>30606.613281</td>\n",
       "      <td>30540.662109</td>\n",
       "      <td>30633.035156</td>\n",
       "      <td>30535.195312</td>\n",
       "      <td>0</td>\n",
       "      <td>0.000000</td>\n",
       "    </tr>\n",
       "    <tr>\n",
       "      <th>3</th>\n",
       "      <td>BTC-USD</td>\n",
       "      <td>2022-06-03 03:00:00+00:00</td>\n",
       "      <td>30542.123047</td>\n",
       "      <td>30501.517578</td>\n",
       "      <td>30545.392578</td>\n",
       "      <td>30479.740234</td>\n",
       "      <td>0</td>\n",
       "      <td>0.000000</td>\n",
       "    </tr>\n",
       "    <tr>\n",
       "      <th>4</th>\n",
       "      <td>BTC-USD</td>\n",
       "      <td>2022-06-03 04:00:00+00:00</td>\n",
       "      <td>30505.972656</td>\n",
       "      <td>30440.314453</td>\n",
       "      <td>30523.390625</td>\n",
       "      <td>30437.888672</td>\n",
       "      <td>0</td>\n",
       "      <td>0.000000</td>\n",
       "    </tr>\n",
       "  </tbody>\n",
       "</table>\n",
       "</div>"
      ],
      "text/plain": [
       "    symbol                         dt          open         close          high           low    volume       amount\n",
       "0  BTC-USD  2022-06-03 00:00:00+00:00  30467.806641  30402.394531  30471.939453  30387.609375         0     0.000000\n",
       "1  BTC-USD  2022-06-03 01:00:00+00:00  30397.445312  30608.304688  30626.511719  30387.603516  31490048  1028.807323\n",
       "2  BTC-USD  2022-06-03 02:00:00+00:00  30606.613281  30540.662109  30633.035156  30535.195312         0     0.000000\n",
       "3  BTC-USD  2022-06-03 03:00:00+00:00  30542.123047  30501.517578  30545.392578  30479.740234         0     0.000000\n",
       "4  BTC-USD  2022-06-03 04:00:00+00:00  30505.972656  30440.314453  30523.390625  30437.888672         0     0.000000"
      ]
     },
     "execution_count": 17,
     "metadata": {},
     "output_type": "execute_result"
    }
   ],
   "source": [
    "kline2.rename(columns={'Datetime':'dt', 'Datetime':'dt', 'Open':'open','Close':'close', 'High': 'high', 'Low':'low', 'Volume':'volume'}, inplace=True)\n",
    "kline2.head()"
   ]
  },
  {
   "cell_type": "code",
   "execution_count": 20,
   "metadata": {},
   "outputs": [
    {
     "data": {
      "text/plain": [
       "str"
      ]
     },
     "execution_count": 20,
     "metadata": {},
     "output_type": "execute_result"
    }
   ],
   "source": [
    "type(kline2.iloc[1,1])"
   ]
  }
 ],
 "metadata": {
  "kernelspec": {
   "display_name": "Python 3",
   "language": "python",
   "name": "python3"
  },
  "language_info": {
   "codemirror_mode": {
    "name": "ipython",
    "version": 3
   },
   "file_extension": ".py",
   "mimetype": "text/x-python",
   "name": "python",
   "nbconvert_exporter": "python",
   "pygments_lexer": "ipython3",
   "version": "3.10.9"
  }
 },
 "nbformat": 4,
 "nbformat_minor": 2
}
